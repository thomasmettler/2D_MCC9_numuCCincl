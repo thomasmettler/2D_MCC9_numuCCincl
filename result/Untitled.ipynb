{
 "cells": [
  {
   "cell_type": "code",
   "execution_count": null,
   "metadata": {},
   "outputs": [],
   "source": [
    "def smear_plot(h_true):\n",
    "    if h_true.GetNbinsX() != 43:\n",
    "        h_true_this = ROOT.TH1F('h_true_this',\"h_true_this\",43,0,43)\n",
    "        for i in range(43):\n",
    "            h_true_this.SetBinContent(i+1,h_true.GetBinContent(i+1))\n",
    "    else:\n",
    "        h_true_this = h_true.Clone()\n",
    "    h_smear = f_cv.Get('h_smearing')\n",
    "    smear_mat = FF.plot2arr(h_smear,2)\n",
    "    eff_vec = FF.plot2arr(h_eff,1)\n",
    "    true_vec = FF.plot2arr(h_true_this,1)\n",
    "    #smear_mat = smear_mat.T*eff_vec\n",
    "    #reco_vec = smear_mat.dot(true_vec)\n",
    "    reco_vec = true_vec.dot(smear_mat)\n",
    "    h_reco = FF.arr2plot(reco_vec)\n",
    "    \n",
    "    return h_reco"
   ]
  }
 ],
 "metadata": {
  "kernelspec": {
   "display_name": "Python 2",
   "language": "python",
   "name": "python2"
  },
  "language_info": {
   "codemirror_mode": {
    "name": "ipython",
    "version": 2
   },
   "file_extension": ".py",
   "mimetype": "text/x-python",
   "name": "python",
   "nbconvert_exporter": "python",
   "pygments_lexer": "ipython2",
   "version": "2.7.12"
  }
 },
 "nbformat": 4,
 "nbformat_minor": 2
}
